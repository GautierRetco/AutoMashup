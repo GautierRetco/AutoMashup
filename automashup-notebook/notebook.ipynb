{
 "cells": [
  {
   "cell_type": "markdown",
   "metadata": {},
   "source": [
    "# Development Notebook"
   ]
  },
  {
   "cell_type": "markdown",
   "metadata": {},
   "source": [
    "This notebook is made for experimenting purpose, in order to make new mashup technics you can add in the automashup-app. It doesn't require all the libraries (such as All In One) which may facilitate compatibility with several operating systems"
   ]
  },
  {
   "cell_type": "markdown",
   "metadata": {},
   "source": [
    "The aim is to create new mashup technics within the /automashup-app/mashup.py file. Then, if you use the same model as the other functions, it's gonna be easy to add it in the app"
   ]
  },
  {
   "cell_type": "markdown",
   "metadata": {},
   "source": [
    "### Example of a working mashup Method"
   ]
  },
  {
   "cell_type": "markdown",
   "metadata": {},
   "source": [
    "The following cells are an example of a mashup method. You may copy and paste the following example at the end of the file to make your own method. Here we assume the tracks are already separated and analyzed so you just have to run the following cell, not to modify it (unless you want to try with other songs for instance)."
   ]
  },
  {
   "cell_type": "markdown",
   "metadata": {},
   "source": [
    "### Loading the tracks"
   ]
  },
  {
   "cell_type": "code",
   "execution_count": 4,
   "metadata": {},
   "outputs": [],
   "source": [
    "import os\n",
    "\n",
    "os.chdir(\"../automashup-app/\")\n",
    "\n",
    "from utils import load_track, key_from_dict, split_track\n",
    "\n",
    "os.chdir(\"../automashup-notebook/\")\n",
    "\n",
    "track_names = ['shape of you', 'love me harder']\n",
    "\n",
    "# You will always have at least one track and up to four\n",
    "# If you need one track as a reference (for instance for beat structure), you will use the first one"
   ]
  },
  {
   "cell_type": "markdown",
   "metadata": {},
   "source": [
    "What we'll be calling a \"track\" is a python dict looking like this : \n",
    "  \n",
    " dict = {\n",
    "     'track_name' : String, \n",
    "     'audio' : audio of the track, it's a np array it can be only a part of the song (vocals, instru, ...),\n",
    "     'sr' : the sampling frequency, \n",
    "     'metadata' : metadata of the audio \n",
    "     }\n",
    "\n",
    "It's important that **your mashup methods returns the same kind of object !!!** Also, your method should handle up to 4 different tracks !\n",
    "Especially, metadata should look like this :\n",
    "\n",
    "{\n",
    "  \"path\": \"/home/gaubiche/Documents/MCE/Automashup/AutoMashup/mashup/input/bazard\\u00e9e.mp3\",\n",
    "  \"bpm\": 103,\n",
    "  \"beats\": [\n",
    "    4.06,\n",
    "    4.63,\n",
    "    5.23,\n",
    "    5.81,\n",
    "    ...\n",
    "  ],\n",
    "  \"downbeats\": [\n",
    "    5.23,\n",
    "    7.57,\n",
    "    9.89,\n",
    "    12.23,\n",
    "    14.56,\n",
    "    16.88,\n",
    "    19.21,\n",
    "    21.54,\n",
    "    ...\n",
    "  ],\n",
    "  \"beat_positions\": [\n",
    "    3,\n",
    "    4,\n",
    "    1,\n",
    "    2,\n",
    "    3,\n",
    "    4,\n",
    "    1,\n",
    "    ...\n",
    "  ],\n",
    "  \"segments\": [\n",
    "    {\n",
    "      \"start\": 0.0,\n",
    "      \"end\": 4.06,\n",
    "      \"label\": \"start\"\n",
    "    },\n",
    "    {\n",
    "      \"start\": 4.06,\n",
    "      \"end\": 32.59,\n",
    "      \"label\": \"verse\"\n",
    "    },\n",
    "    {\n",
    "      \"start\": 32.59,\n",
    "      \"end\": 51.21,\n",
    "      \"label\": \"chorus\"\n",
    "    },\n",
    "    ...\n",
    "  ],\n",
    "  \"key\": {\n",
    "    \"C major\": -0.512,\n",
    "    \"C# major\": 0.29,\n",
    "    ...\n",
    "  }\n",
    "}\n",
    "\n",
    "Do not freak out ! You'll have some metadata as input (within each track) so you won't have to set everything by hand. For I only passed the metadata along the process without modifying it, but I think it would be interesting to modify it when we do loops in mahups (to be sure that the phases of the mashup are correct) and then to be able to use the mashup as an input for another mashup"
   ]
  },
  {
   "cell_type": "code",
   "execution_count": 7,
   "metadata": {},
   "outputs": [
    {
     "name": "stderr",
     "output_type": "stream",
     "text": [
      "[src/libmpg123/parse.c:skip_junk():1276] error: Giving up searching valid MPEG header after 65536 bytes of junk.\n",
      "/home/gaubiche/.local/lib/python3.10/site-packages/librosa/util/decorators.py:88: UserWarning: PySoundFile failed. Trying audioread instead.\n",
      "  return f(*args, **kwargs)\n"
     ]
    }
   ],
   "source": [
    "## Creating the \"tracks\" variable\n",
    "tracks =  []\n",
    "\n",
    "shape_of_you = load_track('shape of you')\n",
    "love_me_harder = load_track('love me harder')\n",
    "tracks = [split_track(shape_of_you, 'drums'), split_track(love_me_harder, 'vocals')]"
   ]
  },
  {
   "cell_type": "markdown",
   "metadata": {},
   "source": [
    "### Mashup Example"
   ]
  },
  {
   "cell_type": "code",
   "execution_count": 8,
   "metadata": {},
   "outputs": [],
   "source": [
    "os.chdir(\"../automashup-app/\") # In order to reach the file we want to load\n",
    "\n",
    "#### YOUR METHOD HERE :\n",
    "### You have to write your method in \"../automashup-app/mashup.py\"\n",
    "from mashup import mashup_technic_1\n",
    "\n",
    "os.chdir(\"../automashup-notebook/\") # In order to get back to our directory\n",
    "\n",
    "### Apply the method here\n",
    "\n",
    "mashup = mashup_technic_1(tracks)"
   ]
  },
  {
   "cell_type": "code",
   "execution_count": 9,
   "metadata": {},
   "outputs": [],
   "source": [
    "import soundfile as sf\n",
    "### Save the mashup : \n",
    "sf.write(\"output.wav\", mashup['audio'], mashup['sr'])"
   ]
  },
  {
   "cell_type": "markdown",
   "metadata": {},
   "source": [
    "If you want to get the key of a song from the metadata, you can use this : "
   ]
  },
  {
   "cell_type": "code",
   "execution_count": 10,
   "metadata": {},
   "outputs": [
    {
     "data": {
      "text/plain": [
       "'F# minor'"
      ]
     },
     "execution_count": 10,
     "metadata": {},
     "output_type": "execute_result"
    }
   ],
   "source": [
    "key_from_dict(tracks[0][\"metadata\"][\"key\"])"
   ]
  }
 ],
 "metadata": {
  "kernelspec": {
   "display_name": "Python 3",
   "language": "python",
   "name": "python3"
  },
  "language_info": {
   "codemirror_mode": {
    "name": "ipython",
    "version": 3
   },
   "file_extension": ".py",
   "mimetype": "text/x-python",
   "name": "python",
   "nbconvert_exporter": "python",
   "pygments_lexer": "ipython3",
   "version": "3.10.12"
  }
 },
 "nbformat": 4,
 "nbformat_minor": 2
}
